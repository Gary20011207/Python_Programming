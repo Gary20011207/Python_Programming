{
 "cells": [
  {
   "cell_type": "markdown",
   "metadata": {},
   "source": [
    "6. 反轉字串（其它方法）"
   ]
  },
  {
   "cell_type": "code",
   "execution_count": 1,
   "metadata": {},
   "outputs": [
    {
     "name": "stdout",
     "output_type": "stream",
     "text": [
      "反轉後的英文單字為： rethgiferif\n",
      "反轉後的英文單字為： rethgiferif\n",
      "反轉後的英文單字為： rethgiferif\n",
      "反轉後的英文單字為： rethgiferif\n"
     ]
    }
   ],
   "source": [
    "def Sliced_Reversed(str):\n",
    "    return str[len(str)::-1]\n",
    "\n",
    "def While_Reversed(str):\n",
    "    Reversed_String = []\n",
    "    i = len(str)\n",
    "    while i > 0:\n",
    "        Reversed_String += str[i - 1]\n",
    "        i -= 1\n",
    "    return ''.join(Reversed_String)\n",
    "\n",
    "def Function_Reversed(str):\n",
    "    return ''.join(reversed(str))\n",
    "\n",
    "def Recursive_Reversed(str):\n",
    "    if len(str) == 0:\n",
    "        return str\n",
    "    else:\n",
    "        return Recursive_Reversed(str[1:]) + str[0]\n",
    "\n",
    "String = input(\"請輸入一個英文單字：\")\n",
    "print(\"反轉後的英文單字為：\", Sliced_Reversed(String))\n",
    "print(\"反轉後的英文單字為：\", While_Reversed(String))\n",
    "print(\"反轉後的英文單字為：\", Function_Reversed(String))\n",
    "print(\"反轉後的英文單字為：\", Recursive_Reversed(String))"
   ]
  }
 ],
 "metadata": {
  "kernelspec": {
   "display_name": "Python 3.10.5 64-bit",
   "language": "python",
   "name": "python3"
  },
  "language_info": {
   "codemirror_mode": {
    "name": "ipython",
    "version": 3
   },
   "file_extension": ".py",
   "mimetype": "text/x-python",
   "name": "python",
   "nbconvert_exporter": "python",
   "pygments_lexer": "ipython3",
   "version": "3.10.5"
  },
  "orig_nbformat": 4,
  "vscode": {
   "interpreter": {
    "hash": "3943b0f0854002a7d9e39fa0702d9fd5582f29d65987560c23dc3a47d0dac4ee"
   }
  }
 },
 "nbformat": 4,
 "nbformat_minor": 2
}
