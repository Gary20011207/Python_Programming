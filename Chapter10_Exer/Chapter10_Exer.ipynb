{
 "cells": [
  {
   "cell_type": "markdown",
   "metadata": {},
   "source": [
    "1. 寫出一行敘述匯入datetime模組並設定別名為dt"
   ]
  },
  {
   "cell_type": "code",
   "execution_count": 1,
   "metadata": {},
   "outputs": [],
   "source": [
    "import datetime as dt"
   ]
  },
  {
   "cell_type": "markdown",
   "metadata": {},
   "source": [
    "2. 寫出一行敘述從datetime模組匯入所有名稱"
   ]
  },
  {
   "cell_type": "code",
   "execution_count": 2,
   "metadata": {},
   "outputs": [],
   "source": [
    "from datetime import *"
   ]
  },
  {
   "cell_type": "markdown",
   "metadata": {},
   "source": [
    "3. 簡單說明何謂第三方套件（third-party package）？舉出三個常見的套件並說明其用途"
   ]
  },
  {
   "cell_type": "markdown",
   "metadata": {},
   "source": [
    "相較於內建的模組與套件是在安裝Python時一併安裝，第三方套件（third-party package）則是要另外安裝的套件。\n",
    "\n",
    "隨著Python的使用者快速增加，網路上也出現愈來愈多針對特定功能所推出的第三方套件，例如\n",
    "\n",
    "NumPy用來進行陣列與科學計算，\n",
    "\n",
    "Matplotlib屬於2D視覺化工具，\n",
    "\n",
    "TensorFlow屬於機器學習套件。"
   ]
  }
 ],
 "metadata": {
  "kernelspec": {
   "display_name": "Python 3.10.5 64-bit",
   "language": "python",
   "name": "python3"
  },
  "language_info": {
   "codemirror_mode": {
    "name": "ipython",
    "version": 3
   },
   "file_extension": ".py",
   "mimetype": "text/x-python",
   "name": "python",
   "nbconvert_exporter": "python",
   "pygments_lexer": "ipython3",
   "version": "3.10.5"
  },
  "orig_nbformat": 4,
  "vscode": {
   "interpreter": {
    "hash": "3943b0f0854002a7d9e39fa0702d9fd5582f29d65987560c23dc3a47d0dac4ee"
   }
  }
 },
 "nbformat": 4,
 "nbformat_minor": 2
}
