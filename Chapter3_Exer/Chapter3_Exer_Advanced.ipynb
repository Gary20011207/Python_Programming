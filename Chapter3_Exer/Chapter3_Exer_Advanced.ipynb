{
 "cells": [
  {
   "cell_type": "markdown",
   "metadata": {},
   "source": [
    "2. 最大公因數與最小公倍數"
   ]
  },
  {
   "cell_type": "code",
   "execution_count": 1,
   "metadata": {},
   "outputs": [],
   "source": [
    "import math"
   ]
  },
  {
   "cell_type": "code",
   "execution_count": 2,
   "metadata": {},
   "outputs": [
    {
     "name": "stdout",
     "output_type": "stream",
     "text": [
      "15和25的最大公因數為5\n",
      "15和25的最小公倍數為75\n"
     ]
    }
   ],
   "source": [
    "Num_1, Num_2 = eval(input(\"請輸入兩個數字，並以','區分兩者：\"))\n",
    "print(\"{0}和{1}的最大公因數為{2}\".format(Num_1, Num_2, math.gcd(Num_1, Num_2)))\n",
    "print(\"{0}和{1}的最小公倍數為{2}\".format(Num_1, Num_2, math.lcm(Num_1, Num_2)))"
   ]
  },
  {
   "cell_type": "markdown",
   "metadata": {},
   "source": [
    "4. 平方根（可自訂精確度）"
   ]
  },
  {
   "cell_type": "code",
   "execution_count": 3,
   "metadata": {},
   "outputs": [
    {
     "name": "stdout",
     "output_type": "stream",
     "text": [
      "2的平方根（精確度到小數點後面12位）為1.414213562373\n"
     ]
    }
   ],
   "source": [
    "Number, Precision = eval(input(\"請輸入一個數字、欲求小數點後精確度位數，並以','區分兩者：\"))\n",
    "print(\"{0}的平方根（精確度到小數點後面{1}位）為{2:.{3}f}\".format(Number, Precision, math.sqrt(Number), Precision))"
   ]
  }
 ],
 "metadata": {
  "kernelspec": {
   "display_name": "Python 3.10.5 64-bit",
   "language": "python",
   "name": "python3"
  },
  "language_info": {
   "codemirror_mode": {
    "name": "ipython",
    "version": 3
   },
   "file_extension": ".py",
   "mimetype": "text/x-python",
   "name": "python",
   "nbconvert_exporter": "python",
   "pygments_lexer": "ipython3",
   "version": "3.10.5"
  },
  "orig_nbformat": 4,
  "vscode": {
   "interpreter": {
    "hash": "3943b0f0854002a7d9e39fa0702d9fd5582f29d65987560c23dc3a47d0dac4ee"
   }
  }
 },
 "nbformat": 4,
 "nbformat_minor": 2
}
