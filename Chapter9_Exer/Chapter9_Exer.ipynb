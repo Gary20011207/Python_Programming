{
 "cells": [
  {
   "cell_type": "markdown",
   "metadata": {},
   "source": [
    "1. 下列程式的錯誤在哪？該如何修正？"
   ]
  },
  {
   "cell_type": "code",
   "execution_count": 1,
   "metadata": {},
   "outputs": [
    {
     "name": "stdout",
     "output_type": "stream",
     "text": [
      "圓面積為 314.0\n"
     ]
    }
   ],
   "source": [
    "class Circle:\n",
    "    PI = 3.14\n",
    "    radius = 10\n",
    "    def getArea(self):\n",
    "        return self.PI * self.radius * self.radius\n",
    "\n",
    "C1 = Circle()\n",
    "print(\"圓面積為\", C1.getArea())"
   ]
  },
  {
   "cell_type": "markdown",
   "metadata": {},
   "source": [
    "2. 請根據題意使用繼承的方式實作多型"
   ]
  },
  {
   "cell_type": "code",
   "execution_count": 7,
   "metadata": {},
   "outputs": [
    {
     "name": "stdout",
     "output_type": "stream",
     "text": [
      "狗的叫聲為 汪汪汪 食物為 骨頭\n",
      "貓的叫聲為 喵喵喵 食物為 魚骨頭\n"
     ]
    }
   ],
   "source": [
    "class Animal:\n",
    "    def sound(self):\n",
    "        self.__sound = \"叫聲\"\n",
    "        return self.__sound\n",
    "\n",
    "    def food(self):\n",
    "        self.__food = \"食物\"\n",
    "        return self.__food\n",
    "\n",
    "class Dog(Animal):\n",
    "    def sound(self):\n",
    "        self.__sound = \"汪汪汪\"\n",
    "        return self.__sound\n",
    "\n",
    "    def food(self):\n",
    "        self.__food = \"骨頭\"\n",
    "        return self.__food\n",
    "\n",
    "class Cat(Animal):\n",
    "    def sound(self):\n",
    "        self.__sound = \"喵喵喵\"\n",
    "        return self.__sound\n",
    "\n",
    "    def food(self):\n",
    "        self.__food = \"魚骨頭\"\n",
    "        return self.__food\n",
    "\n",
    "dog = Dog()\n",
    "print(\"狗的叫聲為\", dog.sound(), \"食物為\", dog.food())\n",
    "cat = Cat()\n",
    "print(\"貓的叫聲為\", cat.sound(), \"食物為\", cat.food())"
   ]
  },
  {
   "cell_type": "markdown",
   "metadata": {},
   "source": [
    "3. 名詞解釋："
   ]
  },
  {
   "cell_type": "markdown",
   "metadata": {},
   "source": [
    "物件（object）\n",
    "\n",
    "在Python中，物件是資料與程式碼的組合，它可以是整個應用程式或應用程式的一部份。\n",
    "\n",
    "屬性（attribute）\n",
    "\n",
    "是用來描述物件的特質\n",
    "\n",
    "方法（method）\n",
    "\n",
    "是用來定義物件的動作\n",
    "\n",
    "類別（class）\n",
    "\n",
    "是物件的分類，就像物件的藍圖或樣板，隸屬於相同類別的物件具有相同的屬性與方法，但屬性的值則不一定相同。\n",
    "\n",
    "封裝（encapsulation）\n",
    "\n",
    "物件導向程式設計則是將資料與用來處理資料的函式放在一起成為一個類別，稱為「封裝」，著重於物件與物件之間的操作。\n",
    "\n",
    "繼承（inheritance）\n",
    "\n",
    "繼承指的是從既有的類別定義出新的類別，這個既有的類別叫做父類別，而這個新的類別則叫做子類別，子類別繼承了父類別的非私有成員，同時可以加入新的成員或覆蓋（override）繼承自父類別的方法，也就是將繼承自父類別的方法重新定義，而且不會影響到父類別的方法。\n",
    "\n",
    "多型（polymorphism）\n",
    "\n",
    "多型指的是當不同的物件收到相同的訊息時，會以各自的方法來做處理。"
   ]
  },
  {
   "cell_type": "markdown",
   "metadata": {},
   "source": [
    "4. 簡單說明 \\__init__() 方法有何用途？"
   ]
  },
  {
   "cell_type": "markdown",
   "metadata": {},
   "source": [
    "在建立物件的時候，會自動呼叫 \\__init__() 方法將物件初始化，常見的初始化動作有設定資料的初始值、開啟檔案、建立資料庫連接、建立網路連線等。"
   ]
  },
  {
   "cell_type": "markdown",
   "metadata": {},
   "source": [
    "5. 簡單說明何謂鏈狀繼承與多重繼承？"
   ]
  },
  {
   "cell_type": "markdown",
   "metadata": {},
   "source": [
    "Python支援鏈狀繼承，例如類別B繼承自類別A，而類別C又繼承自類別B，您可以類推到更多層次；Python亦支援多重繼承，一個子類別可以繼承自多個父類別，例如類別C繼承自類別A和類別B。"
   ]
  },
  {
   "cell_type": "markdown",
   "metadata": {},
   "source": [
    "6. 下列程式的執行結果為何？"
   ]
  },
  {
   "cell_type": "code",
   "execution_count": 8,
   "metadata": {},
   "outputs": [
    {
     "name": "stdout",
     "output_type": "stream",
     "text": [
      "15 3\n"
     ]
    }
   ],
   "source": [
    "class A:\n",
    "    def __init__(self, x):\n",
    "        self.x = x\n",
    "    def M1(self):\n",
    "        self.x += 1\n",
    "\n",
    "class B(A):\n",
    "    def __init__(self, y):\n",
    "        super().__init__(10)\n",
    "        self.y = y\n",
    "\n",
    "    def M1(self):\n",
    "        self.x += 5\n",
    "\n",
    "obj = B(3)\n",
    "obj.M1()\n",
    "print(obj.x, obj.y)"
   ]
  },
  {
   "cell_type": "markdown",
   "metadata": {},
   "source": [
    "7. 下列程式的執行結果為何？"
   ]
  },
  {
   "cell_type": "code",
   "execution_count": 9,
   "metadata": {},
   "outputs": [
    {
     "ename": "AttributeError",
     "evalue": "'A' object has no attribute '__x'",
     "output_type": "error",
     "traceback": [
      "\u001b[1;31m---------------------------------------------------------------------------\u001b[0m",
      "\u001b[1;31mAttributeError\u001b[0m                            Traceback (most recent call last)",
      "\u001b[1;32mc:\\Users\\chen_\\Desktop\\MyProject\\Python_Project\\Python程式設計（第三版）\\Chapter9_Exer\\Chapter9_Exer.ipynb Cell 8\u001b[0m in \u001b[0;36m<cell line: 6>\u001b[1;34m()\u001b[0m\n\u001b[0;32m      <a href='vscode-notebook-cell:/c%3A/Users/chen_/Desktop/MyProject/Python_Project/Python%E7%A8%8B%E5%BC%8F%E8%A8%AD%E8%A8%88%EF%BC%88%E7%AC%AC%E4%B8%89%E7%89%88%EF%BC%89/Chapter9_Exer/Chapter9_Exer.ipynb#X12sZmlsZQ%3D%3D?line=2'>3</a>\u001b[0m         \u001b[39mself\u001b[39m\u001b[39m.\u001b[39m__x \u001b[39m=\u001b[39m x\n\u001b[0;32m      <a href='vscode-notebook-cell:/c%3A/Users/chen_/Desktop/MyProject/Python_Project/Python%E7%A8%8B%E5%BC%8F%E8%A8%AD%E8%A8%88%EF%BC%88%E7%AC%AC%E4%B8%89%E7%89%88%EF%BC%89/Chapter9_Exer/Chapter9_Exer.ipynb#X12sZmlsZQ%3D%3D?line=4'>5</a>\u001b[0m obj \u001b[39m=\u001b[39m A(\u001b[39m100\u001b[39m)\n\u001b[1;32m----> <a href='vscode-notebook-cell:/c%3A/Users/chen_/Desktop/MyProject/Python_Project/Python%E7%A8%8B%E5%BC%8F%E8%A8%AD%E8%A8%88%EF%BC%88%E7%AC%AC%E4%B8%89%E7%89%88%EF%BC%89/Chapter9_Exer/Chapter9_Exer.ipynb#X12sZmlsZQ%3D%3D?line=5'>6</a>\u001b[0m \u001b[39mprint\u001b[39m(obj\u001b[39m.\u001b[39;49m__x)\n",
      "\u001b[1;31mAttributeError\u001b[0m: 'A' object has no attribute '__x'"
     ]
    }
   ],
   "source": [
    "class A:\n",
    "    def __init__(self, x = 0):\n",
    "        self.__x = x\n",
    "\n",
    "obj = A(100)\n",
    "print(obj.__x)"
   ]
  }
 ],
 "metadata": {
  "kernelspec": {
   "display_name": "Python 3.10.5 64-bit",
   "language": "python",
   "name": "python3"
  },
  "language_info": {
   "codemirror_mode": {
    "name": "ipython",
    "version": 3
   },
   "file_extension": ".py",
   "mimetype": "text/x-python",
   "name": "python",
   "nbconvert_exporter": "python",
   "pygments_lexer": "ipython3",
   "version": "3.10.5"
  },
  "orig_nbformat": 4,
  "vscode": {
   "interpreter": {
    "hash": "3943b0f0854002a7d9e39fa0702d9fd5582f29d65987560c23dc3a47d0dac4ee"
   }
  }
 },
 "nbformat": 4,
 "nbformat_minor": 2
}
