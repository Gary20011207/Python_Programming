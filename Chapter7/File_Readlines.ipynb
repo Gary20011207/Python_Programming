{
 "cells": [
  {
   "cell_type": "code",
   "execution_count": 1,
   "metadata": {},
   "outputs": [
    {
     "name": "stdout",
     "output_type": "stream",
     "text": [
      "['登金陵鳳凰台\\n', '鳳凰臺上鳳凰遊，鳳去臺空江自流。\\n', '吳宮花草埋幽徑，晉代衣冠成古邱。\\n', '三山半落青又外，二水中分白鷺洲。\\n', '總為浮雲能蔽日，長安不見使人愁。']\n"
     ]
    }
   ],
   "source": [
    "fileObject = open(\"C:\\\\Users\\\\chen_\\\\Desktop\\\\MyProject\\\\Python_Project\\\\Python程式設計（第三版）\\\\Chapter7\\\\Poem_1.txt\", \"r\")\n",
    "content = fileObject.readlines() # 讀取所有行\n",
    "print(content) # 印出變數，此為串列"
   ]
  },
  {
   "cell_type": "code",
   "execution_count": 2,
   "metadata": {},
   "outputs": [
    {
     "name": "stdout",
     "output_type": "stream",
     "text": [
      "登金陵鳳凰台\n",
      "\n",
      "鳳凰臺上鳳凰遊，鳳去臺空江自流。\n",
      "\n",
      "吳宮花草埋幽徑，晉代衣冠成古邱。\n",
      "\n",
      "三山半落青又外，二水中分白鷺洲。\n",
      "\n",
      "總為浮雲能蔽日，長安不見使人愁。\n"
     ]
    }
   ],
   "source": [
    "for line in content:\n",
    "    print(line) # 印出變數的元素"
   ]
  },
  {
   "cell_type": "code",
   "execution_count": 3,
   "metadata": {},
   "outputs": [],
   "source": [
    "fileObject.close()"
   ]
  }
 ],
 "metadata": {
  "kernelspec": {
   "display_name": "Python 3.10.5 64-bit",
   "language": "python",
   "name": "python3"
  },
  "language_info": {
   "codemirror_mode": {
    "name": "ipython",
    "version": 3
   },
   "file_extension": ".py",
   "mimetype": "text/x-python",
   "name": "python",
   "nbconvert_exporter": "python",
   "pygments_lexer": "ipython3",
   "version": "3.10.5"
  },
  "orig_nbformat": 4,
  "vscode": {
   "interpreter": {
    "hash": "3943b0f0854002a7d9e39fa0702d9fd5582f29d65987560c23dc3a47d0dac4ee"
   }
  }
 },
 "nbformat": 4,
 "nbformat_minor": 2
}
