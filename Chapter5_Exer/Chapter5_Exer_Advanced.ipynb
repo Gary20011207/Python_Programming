{
 "cells": [
  {
   "cell_type": "markdown",
   "metadata": {},
   "source": [
    "4. 判斷質數（執行速度更快）"
   ]
  },
  {
   "cell_type": "code",
   "execution_count": 1,
   "metadata": {},
   "outputs": [
    {
     "name": "stdout",
     "output_type": "stream",
     "text": [
      "isPrime()執行速度為： 12.70801043510437 秒\n",
      "\n",
      "\n",
      "isPrime_Ignore_2()執行速度為： 5.938116550445557 秒\n"
     ]
    }
   ],
   "source": [
    "import time\n",
    "\n",
    "def isPrime(Number):\n",
    "    if Number > 1:\n",
    "        for i in range(2, int(Number ** 1 / 2) + 1):\n",
    "            if Number % i == 0:\n",
    "                return False\n",
    "        else:\n",
    "            return True\n",
    "    else:\n",
    "        return False\n",
    "\n",
    "def isPrime_Ignore_2(Number):\n",
    "    if Number > 1:\n",
    "        if (Number % 2 == 0) and (Number != 2):\n",
    "            return False\n",
    "        for i in range(3, int(Number ** 1 / 2) + 1, 2):\n",
    "            if Number % i == 0:\n",
    "                return False\n",
    "        else:\n",
    "            return True\n",
    "    else:\n",
    "        return False\n",
    "\n",
    "Counter_1, Counter_2 = 0, 0\n",
    "\n",
    "Start = time.time()\n",
    "\n",
    "for i in range(1, 100000):\n",
    "    if isPrime(i):\n",
    "        Counter_1 += 1\n",
    "        # print(i, end = ' ')\n",
    "\n",
    "End = time.time()\n",
    "\n",
    "print(\"isPrime()執行速度為：\", End - Start, '秒')\n",
    "\n",
    "print('\\n')\n",
    "\n",
    "Start = time.time()\n",
    "\n",
    "for i in range(1, 100000):\n",
    "    if isPrime_Ignore_2(i):\n",
    "        Counter_2 += 1\n",
    "        # print(i, end = ' ')\n",
    "\n",
    "End = time.time()\n",
    "\n",
    "print(\"isPrime_Ignore_2()執行速度為：\", End - Start, '秒')\n",
    "\n",
    "# print(Counter_1, Counter_2)"
   ]
  }
 ],
 "metadata": {
  "kernelspec": {
   "display_name": "Python 3.10.5 64-bit",
   "language": "python",
   "name": "python3"
  },
  "language_info": {
   "codemirror_mode": {
    "name": "ipython",
    "version": 3
   },
   "file_extension": ".py",
   "mimetype": "text/x-python",
   "name": "python",
   "nbconvert_exporter": "python",
   "pygments_lexer": "ipython3",
   "version": "3.10.5"
  },
  "orig_nbformat": 4,
  "vscode": {
   "interpreter": {
    "hash": "3943b0f0854002a7d9e39fa0702d9fd5582f29d65987560c23dc3a47d0dac4ee"
   }
  }
 },
 "nbformat": 4,
 "nbformat_minor": 2
}
