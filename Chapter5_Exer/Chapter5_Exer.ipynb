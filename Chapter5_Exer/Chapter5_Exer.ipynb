{
 "cells": [
  {
   "cell_type": "markdown",
   "metadata": {},
   "source": [
    "1. 找出最大值"
   ]
  },
  {
   "cell_type": "code",
   "execution_count": 37,
   "metadata": {},
   "outputs": [
    {
     "name": "stdout",
     "output_type": "stream",
     "text": [
      "100\n"
     ]
    }
   ],
   "source": [
    "def largest(*numbers):\n",
    "    Maximum = numbers[0]\n",
    "    for i in range(0, len(numbers)):\n",
    "        if Maximum < numbers[i]:\n",
    "            Maximum = numbers[i]\n",
    "    return Maximum\n",
    "\n",
    "print(largest(10, 50, 100, -10, -5))"
   ]
  },
  {
   "cell_type": "markdown",
   "metadata": {},
   "source": [
    "2. 當月份日歷"
   ]
  },
  {
   "cell_type": "code",
   "execution_count": 38,
   "metadata": {},
   "outputs": [
    {
     "name": "stdout",
     "output_type": "stream",
     "text": [
      "目前的本地時間： Fri Jul 15 16:01:24 2022\n",
      "     July 2022\n",
      "Mo Tu We Th Fr Sa Su\n",
      "             1  2  3\n",
      " 4  5  6  7  8  9 10\n",
      "11 12 13 14 15 16 17\n",
      "18 19 20 21 22 23 24\n",
      "25 26 27 28 29 30 31\n",
      "\n"
     ]
    }
   ],
   "source": [
    "import time\n",
    "import calendar\n",
    "print(\"目前的本地時間：\", time.asctime())\n",
    "print(calendar.month(int(time.strftime('%Y')), int(time.strftime('%m'))))"
   ]
  },
  {
   "cell_type": "markdown",
   "metadata": {},
   "source": [
    "3. 計算薪資"
   ]
  },
  {
   "cell_type": "code",
   "execution_count": 39,
   "metadata": {},
   "outputs": [
    {
     "name": "stdout",
     "output_type": "stream",
     "text": [
      "工作時數64.5、時薪198、獎金0的薪資為12771.0\n"
     ]
    }
   ],
   "source": [
    "def salary(hours, hourlypay, bonus = 0):\n",
    "    return hourlypay * hours + bonus\n",
    "\n",
    "hours, hourlypay = 64.5, 198\n",
    "print(\"工作時數{0}、時薪{1}、獎金{2}的薪資為{3}\".format(hours, hourlypay, 0, salary(hours, hourlypay)))"
   ]
  },
  {
   "cell_type": "markdown",
   "metadata": {},
   "source": [
    "4. 判斷質數"
   ]
  },
  {
   "cell_type": "code",
   "execution_count": 40,
   "metadata": {},
   "outputs": [
    {
     "name": "stdout",
     "output_type": "stream",
     "text": [
      "2 3 5 7 11 13 17 19 23 29 31 37 41 43 47 53 59 61 67 71 73 79 83 89 97 "
     ]
    }
   ],
   "source": [
    "def isPrime(Number):\n",
    "    if Number > 1:\n",
    "        for i in range(2, int(Number ** 1 / 2) + 1):\n",
    "            if Number % i == 0:\n",
    "                return False\n",
    "        else:\n",
    "            return True\n",
    "    else:\n",
    "        return False\n",
    "\n",
    "for i in range(2, 101):\n",
    "    if isPrime(i):\n",
    "        print(i, end = ' ')"
   ]
  },
  {
   "cell_type": "markdown",
   "metadata": {},
   "source": [
    "5. 單利本利和"
   ]
  },
  {
   "cell_type": "code",
   "execution_count": 41,
   "metadata": {},
   "outputs": [
    {
     "name": "stdout",
     "output_type": "stream",
     "text": [
      "單利本利和為 1180000\n"
     ]
    }
   ],
   "source": [
    "def Sum(P, r, t):\n",
    "    return P * (1 + r * t)\n",
    "\n",
    "Principal = eval(input(\"請輸入本金，例如1萬元就輸入10000：\"))\n",
    "APR = eval(input(\"請輸入年利率，例如5%就輸入0.05：\"))\n",
    "Years = eval(input(\"請輸入年數，例如3年就輸入3：\"))\n",
    "\n",
    "print(\"單利本利和為\", round(Sum(Principal, APR, Years)))"
   ]
  },
  {
   "cell_type": "markdown",
   "metadata": {},
   "source": [
    "6. 複利本利和"
   ]
  },
  {
   "cell_type": "code",
   "execution_count": 42,
   "metadata": {},
   "outputs": [
    {
     "name": "stdout",
     "output_type": "stream",
     "text": [
      "複利本利和為 1191016\n"
     ]
    }
   ],
   "source": [
    "def Sum(P, r, t):\n",
    "    return P * pow((1 + r), t)\n",
    "\n",
    "Principal = eval(input(\"請輸入本金，例如1萬元就輸入10000：\"))\n",
    "APR = eval(input(\"請輸入年利率，例如5%就輸入0.05：\"))\n",
    "Years = eval(input(\"請輸入年數，例如3年就輸入3：\"))\n",
    "\n",
    "print(\"複利本利和為\", round(Sum(Principal, APR, Years)))"
   ]
  }
 ],
 "metadata": {
  "kernelspec": {
   "display_name": "Python 3.10.5 64-bit",
   "language": "python",
   "name": "python3"
  },
  "language_info": {
   "codemirror_mode": {
    "name": "ipython",
    "version": 3
   },
   "file_extension": ".py",
   "mimetype": "text/x-python",
   "name": "python",
   "nbconvert_exporter": "python",
   "pygments_lexer": "ipython3",
   "version": "3.10.5"
  },
  "orig_nbformat": 4,
  "vscode": {
   "interpreter": {
    "hash": "3943b0f0854002a7d9e39fa0702d9fd5582f29d65987560c23dc3a47d0dac4ee"
   }
  }
 },
 "nbformat": 4,
 "nbformat_minor": 2
}
