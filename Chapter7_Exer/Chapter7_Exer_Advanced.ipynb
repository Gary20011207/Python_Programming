{
 "cells": [
  {
   "cell_type": "markdown",
   "metadata": {},
   "source": [
    "1. 複製資料夾（並進行壓縮）"
   ]
  },
  {
   "cell_type": "code",
   "execution_count": 1,
   "metadata": {},
   "outputs": [
    {
     "name": "stdout",
     "output_type": "stream",
     "text": [
      "Zip_Test已經複製到Zip_Test_Copy！\n",
      "Zip_Test_Copy已經成功壓縮！\n"
     ]
    }
   ],
   "source": [
    "from zipfile import ZipFile\n",
    "from pathlib import Path\n",
    "\n",
    "import shutil\n",
    "def CopyTree(sourceDir, targetDir):\n",
    "    Fixed = \"C:\\\\Users\\\\chen_\\\\Desktop\\\\MyProject\\\\Python_Project\\\\Python程式設計（第三版）\\\\Chapter7_Exer\\\\\"\n",
    "    shutil.copytree(Fixed + sourceDir, Fixed + targetDir)\n",
    "\n",
    "def Zip(sourceDir):\n",
    "    with ZipFile(sourceDir + \".zip\", \"w\") as zip:\n",
    "        for file in Path(\"Zip_Test_Copy\").rglob(\"*.*\"): # 所有檔案\n",
    "            zip.write(file)\n",
    "\n",
    "CopyTree(\"Zip_Test\", \"Zip_Test_Copy\")\n",
    "print(\"Zip_Test已經複製到Zip_Test_Copy！\")\n",
    "Zip(\"Zip_Test_Copy\")\n",
    "print(\"Zip_Test_Copy已經成功壓縮！\")"
   ]
  }
 ],
 "metadata": {
  "kernelspec": {
   "display_name": "Python 3.10.5 64-bit",
   "language": "python",
   "name": "python3"
  },
  "language_info": {
   "codemirror_mode": {
    "name": "ipython",
    "version": 3
   },
   "file_extension": ".py",
   "mimetype": "text/x-python",
   "name": "python",
   "nbconvert_exporter": "python",
   "pygments_lexer": "ipython3",
   "version": "3.10.5"
  },
  "orig_nbformat": 4,
  "vscode": {
   "interpreter": {
    "hash": "3943b0f0854002a7d9e39fa0702d9fd5582f29d65987560c23dc3a47d0dac4ee"
   }
  }
 },
 "nbformat": 4,
 "nbformat_minor": 2
}
