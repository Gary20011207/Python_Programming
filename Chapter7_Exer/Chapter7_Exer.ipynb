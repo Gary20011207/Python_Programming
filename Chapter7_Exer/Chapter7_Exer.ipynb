{
 "cells": [
  {
   "cell_type": "markdown",
   "metadata": {},
   "source": [
    "1. 複製檔案"
   ]
  },
  {
   "cell_type": "code",
   "execution_count": 1,
   "metadata": {},
   "outputs": [
    {
     "name": "stdout",
     "output_type": "stream",
     "text": [
      "sample1.txt已經複製到sample2.txt！\n"
     ]
    }
   ],
   "source": [
    "import shutil\n",
    "def Copy(sourcefile, targetfile):\n",
    "    Fixed = \"C:\\\\Users\\\\chen_\\\\Desktop\\\\MyProject\\\\Python_Project\\\\Python程式設計（第三版）\\\\Chapter7_Exer\\\\\"\n",
    "    shutil.copy(Fixed + sourcefile, Fixed + targetfile)\n",
    "\n",
    "Copy(\"sample1.txt\", \"sample2.txt\")\n",
    "print(\"sample1.txt已經複製到sample2.txt！\")"
   ]
  },
  {
   "cell_type": "markdown",
   "metadata": {},
   "source": [
    "2. 檔案的行數與字數"
   ]
  },
  {
   "cell_type": "code",
   "execution_count": 2,
   "metadata": {},
   "outputs": [
    {
     "name": "stdout",
     "output_type": "stream",
     "text": [
      "sample1.txt檔案有 5 行 70 字\n"
     ]
    }
   ],
   "source": [
    "def Counter(FileName):\n",
    "    FileObject = open(\"C:\\\\Users\\\\chen_\\\\Desktop\\\\MyProject\\\\Python_Project\\\\Python程式設計（第三版）\\\\Chapter7_Exer\\\\\" + FileName, \"r\", encoding=\"utf-8\")\n",
    "    Lines_Counter = 0\n",
    "    Chars_Counter = 0\n",
    "    for line in FileObject:\n",
    "        Lines_Counter += 1\n",
    "        Chars_Counter += len(line)\n",
    "    \n",
    "    print(FileName, \"檔案有 \", Lines_Counter, \" 行 \", Chars_Counter, \" 字\", sep = '')\n",
    "\n",
    "Counter(\"sample1.txt\")"
   ]
  }
 ],
 "metadata": {
  "kernelspec": {
   "display_name": "Python 3.10.5 64-bit",
   "language": "python",
   "name": "python3"
  },
  "language_info": {
   "codemirror_mode": {
    "name": "ipython",
    "version": 3
   },
   "file_extension": ".py",
   "mimetype": "text/x-python",
   "name": "python",
   "nbconvert_exporter": "python",
   "pygments_lexer": "ipython3",
   "version": "3.10.5"
  },
  "orig_nbformat": 4,
  "vscode": {
   "interpreter": {
    "hash": "3943b0f0854002a7d9e39fa0702d9fd5582f29d65987560c23dc3a47d0dac4ee"
   }
  }
 },
 "nbformat": 4,
 "nbformat_minor": 2
}
