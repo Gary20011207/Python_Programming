{
 "cells": [
  {
   "cell_type": "code",
   "execution_count": 1,
   "metadata": {},
   "outputs": [],
   "source": [
    "import numpy as np"
   ]
  },
  {
   "cell_type": "code",
   "execution_count": 2,
   "metadata": {},
   "outputs": [
    {
     "data": {
      "text/plain": [
       "array([[ 15., 160.,  48.],\n",
       "       [ 14., 175.,  66.],\n",
       "       [ 15., 153.,  50.],\n",
       "       [ 15., 162.,  44.]])"
      ]
     },
     "execution_count": 2,
     "metadata": {},
     "output_type": "execute_result"
    }
   ],
   "source": [
    "np.loadtxt(\"C:\\\\Users\\\\chen_\\\\Desktop\\\\MyProject\\\\Python_Project\\\\Python程式設計（第三版）\\\\Chapter12\\\\Data.txt\", delimiter = ',') # 指定分隔字元為逗號"
   ]
  },
  {
   "cell_type": "code",
   "execution_count": 3,
   "metadata": {},
   "outputs": [
    {
     "data": {
      "text/plain": [
       "array([[ 15., 153.,  50.],\n",
       "       [ 15., 162.,  44.]])"
      ]
     },
     "execution_count": 3,
     "metadata": {},
     "output_type": "execute_result"
    }
   ],
   "source": [
    "np.loadtxt(\"C:\\\\Users\\\\chen_\\\\Desktop\\\\MyProject\\\\Python_Project\\\\Python程式設計（第三版）\\\\Chapter12\\\\Data.txt\", delimiter = ',', skiprows = 2) # 忽略前2列"
   ]
  },
  {
   "cell_type": "code",
   "execution_count": 4,
   "metadata": {},
   "outputs": [
    {
     "data": {
      "text/plain": [
       "array([[15., 48.],\n",
       "       [14., 66.],\n",
       "       [15., 50.],\n",
       "       [15., 44.]])"
      ]
     },
     "execution_count": 4,
     "metadata": {},
     "output_type": "execute_result"
    }
   ],
   "source": [
    "np.loadtxt(\"C:\\\\Users\\\\chen_\\\\Desktop\\\\MyProject\\\\Python_Project\\\\Python程式設計（第三版）\\\\Chapter12\\\\Data.txt\", delimiter = ',', usecols = (0, 2)) # 讀取第1、3行"
   ]
  },
  {
   "cell_type": "code",
   "execution_count": 5,
   "metadata": {},
   "outputs": [],
   "source": [
    "x = y = z = np.arange(0, 5, 1)\n",
    "np.savetxt(\"C:\\\\Users\\\\chen_\\\\Desktop\\\\MyProject\\\\Python_Project\\\\Python程式設計（第三版）\\\\Chapter12\\\\Test.txt\", (x, y ,z), delimiter = ',', fmt = \"%1.2f\")"
   ]
  }
 ],
 "metadata": {
  "kernelspec": {
   "display_name": "Python 3.10.6 64-bit",
   "language": "python",
   "name": "python3"
  },
  "language_info": {
   "codemirror_mode": {
    "name": "ipython",
    "version": 3
   },
   "file_extension": ".py",
   "mimetype": "text/x-python",
   "name": "python",
   "nbconvert_exporter": "python",
   "pygments_lexer": "ipython3",
   "version": "3.10.6"
  },
  "orig_nbformat": 4,
  "vscode": {
   "interpreter": {
    "hash": "3943b0f0854002a7d9e39fa0702d9fd5582f29d65987560c23dc3a47d0dac4ee"
   }
  }
 },
 "nbformat": 4,
 "nbformat_minor": 2
}
