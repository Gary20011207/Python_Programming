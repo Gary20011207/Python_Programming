{
 "cells": [
  {
   "cell_type": "markdown",
   "metadata": {},
   "source": [
    "1. 連續數字總和（給定任意正整數n，計算1 + 2 + ... + n）"
   ]
  },
  {
   "cell_type": "code",
   "execution_count": 8,
   "metadata": {},
   "outputs": [
    {
     "data": {
      "text/plain": [
       "55"
      ]
     },
     "execution_count": 8,
     "metadata": {},
     "output_type": "execute_result"
    }
   ],
   "source": [
    "def sum(n):\n",
    "    temp_sum = 0\n",
    "    for i in range(1, n + 1):\n",
    "        temp_sum += i\n",
    "    return temp_sum\n",
    "\n",
    "sum(10)"
   ]
  },
  {
   "cell_type": "markdown",
   "metadata": {},
   "source": [
    "3. 時間換算（給定任意小時數、分鐘數、秒數，計算總共為幾秒）"
   ]
  },
  {
   "cell_type": "code",
   "execution_count": 9,
   "metadata": {},
   "outputs": [
    {
     "data": {
      "text/plain": [
       "4200"
      ]
     },
     "execution_count": 9,
     "metadata": {},
     "output_type": "execute_result"
    }
   ],
   "source": [
    "def time_conversion(hours, minutes, seconds):\n",
    "    return hours * 3600 + minutes * 60 + seconds\n",
    "\n",
    "time_conversion(1, 10, 0)"
   ]
  },
  {
   "cell_type": "markdown",
   "metadata": {},
   "source": [
    "5. 圓面積（給定任意半徑R，計算圓面積大小）"
   ]
  },
  {
   "cell_type": "code",
   "execution_count": 10,
   "metadata": {},
   "outputs": [
    {
     "data": {
      "text/plain": [
       "314.1592653589793"
      ]
     },
     "execution_count": 10,
     "metadata": {},
     "output_type": "execute_result"
    }
   ],
   "source": [
    "import math\n",
    "def Circle_Area(R):\n",
    "    return math.pi * R ** 2\n",
    "\n",
    "Circle_Area(10)"
   ]
  },
  {
   "cell_type": "markdown",
   "metadata": {},
   "source": [
    "6. 球體積（給定任意半徑R，計算球體積大小）"
   ]
  },
  {
   "cell_type": "code",
   "execution_count": 11,
   "metadata": {},
   "outputs": [
    {
     "data": {
      "text/plain": [
       "4188.790204786391"
      ]
     },
     "execution_count": 11,
     "metadata": {},
     "output_type": "execute_result"
    }
   ],
   "source": [
    "import math\n",
    "def Sphere_Volume(R):\n",
    "    return 4 / 3 * math.pi * R ** 3\n",
    "\n",
    "Sphere_Volume(10)"
   ]
  },
  {
   "cell_type": "markdown",
   "metadata": {},
   "source": [
    "7. 半衰期（給定任意半衰期天數、原有質量（克），計算經過任意天數後會剩餘質量）"
   ]
  },
  {
   "cell_type": "code",
   "execution_count": 12,
   "metadata": {},
   "outputs": [
    {
     "data": {
      "text/plain": [
       "12.5"
      ]
     },
     "execution_count": 12,
     "metadata": {},
     "output_type": "execute_result"
    }
   ],
   "source": [
    "def Half_Life(HalfLife, Original_Mass, Days):\n",
    "    return Original_Mass * ((1 / 2) ** (Days / HalfLife))\n",
    "\n",
    "Half_Life(100, 400, 500)"
   ]
  },
  {
   "cell_type": "markdown",
   "metadata": {},
   "source": [
    "8. 預測人口總數（給定人口成長率、人口成長率每年單位、當年人口總數（億）、當年年份、欲求人口總數年份）"
   ]
  },
  {
   "cell_type": "code",
   "execution_count": 13,
   "metadata": {},
   "outputs": [
    {
     "data": {
      "text/plain": [
       "86.39999999999999"
      ]
     },
     "execution_count": 13,
     "metadata": {},
     "output_type": "execute_result"
    }
   ],
   "source": [
    "def Total_Population(Rate, YearUnit, Original_Population, Original_Year, Forecase_Year):\n",
    "    return Original_Population * (Rate ** ((Forecase_Year - Original_Year) / (YearUnit)))\n",
    "\n",
    "Total_Population(6 / 5, 12, 60, 1999, 2023)"
   ]
  }
 ],
 "metadata": {
  "kernelspec": {
   "display_name": "Python 3.10.5 64-bit",
   "language": "python",
   "name": "python3"
  },
  "language_info": {
   "codemirror_mode": {
    "name": "ipython",
    "version": 3
   },
   "file_extension": ".py",
   "mimetype": "text/x-python",
   "name": "python",
   "nbconvert_exporter": "python",
   "pygments_lexer": "ipython3",
   "version": "3.10.5"
  },
  "orig_nbformat": 4,
  "vscode": {
   "interpreter": {
    "hash": "3943b0f0854002a7d9e39fa0702d9fd5582f29d65987560c23dc3a47d0dac4ee"
   }
  }
 },
 "nbformat": 4,
 "nbformat_minor": 2
}
