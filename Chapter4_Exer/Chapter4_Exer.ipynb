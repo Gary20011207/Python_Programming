{
 "cells": [
  {
   "cell_type": "markdown",
   "metadata": {},
   "source": [
    "1. 判斷13的倍數"
   ]
  },
  {
   "cell_type": "code",
   "execution_count": 1,
   "metadata": {},
   "outputs": [
    {
     "name": "stdout",
     "output_type": "stream",
     "text": [
      "13\n",
      "26\n",
      "39\n",
      "52\n",
      "65\n",
      "78\n",
      "91\n"
     ]
    }
   ],
   "source": [
    "i = 1\n",
    "\n",
    "while i < 100:\n",
    "    if i % 13 == 0:\n",
    "        print(i)\n",
    "    i += 1"
   ]
  },
  {
   "cell_type": "markdown",
   "metadata": {},
   "source": [
    "2. 撰寫一個Python程式，令它計算下列算式的結果。"
   ]
  },
  {
   "cell_type": "code",
   "execution_count": 2,
   "metadata": {},
   "outputs": [
    {
     "name": "stdout",
     "output_type": "stream",
     "text": [
      "0.99609375\n"
     ]
    }
   ],
   "source": [
    "Max_Power = 8\n",
    "Sum = 0\n",
    "\n",
    "for i in range(1, Max_Power + 1):\n",
    "    Sum += (1 / 2) ** i\n",
    "\n",
    "print(Sum)"
   ]
  },
  {
   "cell_type": "markdown",
   "metadata": {},
   "source": [
    "3. 撰寫一個Python程式，令它計算下列算式的結果。"
   ]
  },
  {
   "cell_type": "code",
   "execution_count": 3,
   "metadata": {},
   "outputs": [
    {
     "name": "stdout",
     "output_type": "stream",
     "text": [
      "2.9289682539682538\n"
     ]
    }
   ],
   "source": [
    "Max_Term = 10\n",
    "Sum = 0\n",
    "\n",
    "for i in range(1, Max_Term + 1):\n",
    "    Sum += 1 / i\n",
    "\n",
    "print(Sum)"
   ]
  },
  {
   "cell_type": "markdown",
   "metadata": {},
   "source": [
    "4. 個人綜所稅"
   ]
  },
  {
   "cell_type": "code",
   "execution_count": 4,
   "metadata": {},
   "outputs": [
    {
     "name": "stdout",
     "output_type": "stream",
     "text": [
      "個人綜所稅為： 83600.0\n"
     ]
    }
   ],
   "source": [
    "Income = eval(input(\"請輸入綜合所得淨額：\"))\n",
    "\n",
    "if Income < 0:\n",
    "    print(\"綜合所得淨額不能為負\")\n",
    "elif Income <= 520000 and Income > 0:\n",
    "    print(\"個人綜所稅為：\", Income * 0.05)\n",
    "elif Income <= 1170000 and Income > 520000:\n",
    "    print(\"個人綜所稅為：\", (Income - 520000) * 0.12 + 520000 * 0.05)\n",
    "elif Income <= 2350000 and Income > 1170000:\n",
    "    print(\"個人綜所稅為：\", (Income - 1170000) * 0.20 + (1170000 - 520000) * 0.12 + 520000 * 0.05)\n",
    "elif Income <= 4400000 and Income > 2350000:\n",
    "    print(\"個人綜所稅為：\", (Income - 2350000) * 0.30 + (2350000 - 1170000) * 0.20 + (1170000 - 520000) * 0.12 + 520000 * 0.05)\n",
    "elif Income > 4400000:\n",
    "    print(\"個人綜所稅為：\", (Income - 4400000) * 0.40 + (4400000 - 2350000) * 0.30 + (2350000 - 1170000) * 0.20 + (1170000 - 520000) * 0.12 + 520000 * 0.05)"
   ]
  },
  {
   "cell_type": "markdown",
   "metadata": {},
   "source": [
    "5. 預測調薪速度"
   ]
  },
  {
   "cell_type": "code",
   "execution_count": 5,
   "metadata": {},
   "outputs": [
    {
     "name": "stdout",
     "output_type": "stream",
     "text": [
      "24\n"
     ]
    }
   ],
   "source": [
    "Monthly_Salary = 25000\n",
    "Year = 0\n",
    "\n",
    "while Monthly_Salary < 50000:\n",
    "    Monthly_Salary += Monthly_Salary * 0.03\n",
    "    Year += 1\n",
    "\n",
    "print(Year)"
   ]
  },
  {
   "cell_type": "markdown",
   "metadata": {},
   "source": [
    "6. 在下列迴圈執行完畢時，會印出哪些數值？"
   ]
  },
  {
   "cell_type": "code",
   "execution_count": 6,
   "metadata": {},
   "outputs": [
    {
     "name": "stdout",
     "output_type": "stream",
     "text": [
      "8\n",
      "9\n",
      "12\n",
      "8\n",
      "12\n",
      "16\n"
     ]
    }
   ],
   "source": [
    "for i in range(1, 5):\n",
    "    for j in range(1, 5):\n",
    "        if i * j < 8:\n",
    "            continue\n",
    "        print(i * j)"
   ]
  }
 ],
 "metadata": {
  "kernelspec": {
   "display_name": "Python 3.10.5 64-bit",
   "language": "python",
   "name": "python3"
  },
  "language_info": {
   "codemirror_mode": {
    "name": "ipython",
    "version": 3
   },
   "file_extension": ".py",
   "mimetype": "text/x-python",
   "name": "python",
   "nbconvert_exporter": "python",
   "pygments_lexer": "ipython3",
   "version": "3.10.5"
  },
  "orig_nbformat": 4,
  "vscode": {
   "interpreter": {
    "hash": "3943b0f0854002a7d9e39fa0702d9fd5582f29d65987560c23dc3a47d0dac4ee"
   }
  }
 },
 "nbformat": 4,
 "nbformat_minor": 2
}
