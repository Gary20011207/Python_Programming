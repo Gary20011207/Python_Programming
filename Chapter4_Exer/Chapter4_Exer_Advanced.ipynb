{
 "cells": [
  {
   "cell_type": "markdown",
   "metadata": {},
   "source": [
    "1. 判斷n的倍數（可指定範圍）"
   ]
  },
  {
   "cell_type": "code",
   "execution_count": 5,
   "metadata": {},
   "outputs": [
    {
     "name": "stdout",
     "output_type": "stream",
     "text": [
      "13\n",
      "26\n",
      "39\n",
      "52\n",
      "65\n",
      "78\n",
      "91\n"
     ]
    }
   ],
   "source": [
    "Mod_Number, Max_Number = eval(input(\"請輸入欲求倍數以及最大範圍數（從1開始），並以','區分兩者：\"))\n",
    "\n",
    "i = 1\n",
    "\n",
    "while i < Max_Number:\n",
    "    if i % Mod_Number == 0:\n",
    "        print(i)\n",
    "    i += 1"
   ]
  },
  {
   "cell_type": "markdown",
   "metadata": {},
   "source": [
    "5. 預測調薪速度（任意起始薪水、期望薪水、累進倍率）"
   ]
  },
  {
   "cell_type": "code",
   "execution_count": 6,
   "metadata": {},
   "outputs": [
    {
     "name": "stdout",
     "output_type": "stream",
     "text": [
      "在 0.03 的累進倍率下經過 24 年就會達到預期薪水 50000\n"
     ]
    }
   ],
   "source": [
    "Initial_Salary, Expected_Salary, Increase = eval(input(\"請輸入起始薪水, 期望薪水, 累進倍率的值，並以','區分三者：\"))\n",
    "\n",
    "Year = 0\n",
    "\n",
    "while Initial_Salary < Expected_Salary:\n",
    "    Initial_Salary += Initial_Salary * Increase\n",
    "    Year += 1\n",
    "\n",
    "print(\"在\", Increase, \"的累進倍率下經過\", Year, \"年就會達到預期薪水\", Expected_Salary)"
   ]
  }
 ],
 "metadata": {
  "kernelspec": {
   "display_name": "Python 3.10.5 64-bit",
   "language": "python",
   "name": "python3"
  },
  "language_info": {
   "codemirror_mode": {
    "name": "ipython",
    "version": 3
   },
   "file_extension": ".py",
   "mimetype": "text/x-python",
   "name": "python",
   "nbconvert_exporter": "python",
   "pygments_lexer": "ipython3",
   "version": "3.10.5"
  },
  "orig_nbformat": 4,
  "vscode": {
   "interpreter": {
    "hash": "3943b0f0854002a7d9e39fa0702d9fd5582f29d65987560c23dc3a47d0dac4ee"
   }
  }
 },
 "nbformat": 4,
 "nbformat_minor": 2
}
