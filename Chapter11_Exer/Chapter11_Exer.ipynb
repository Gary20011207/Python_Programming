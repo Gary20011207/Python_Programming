{
 "cells": [
  {
   "cell_type": "markdown",
   "metadata": {},
   "source": [
    "1. 撰寫一些Python敘述將圖片MHR.jpg套用BLUR濾鏡十次"
   ]
  },
  {
   "cell_type": "code",
   "execution_count": 1,
   "metadata": {},
   "outputs": [],
   "source": [
    "from PIL import Image, ImageFilter\n",
    "Graph = Image.open(\"C:\\\\Users\\\\chen_\\\\Desktop\\\\MyProject\\\\Python_Project\\\\Python程式設計（第三版）\\\\Chapter11_Exer\\\\MHR.jpg\")\n",
    "Out_Graph = Graph\n",
    "\n",
    "for i in range(0, 10):\n",
    "    Out_Graph = Out_Graph.filter(ImageFilter.BLUR) # 將圖片加上模糊濾鏡\n",
    "\n",
    "Out_Graph.show()\n",
    "Out_Graph.save(\"C:\\\\Users\\\\chen_\\\\Desktop\\\\MyProject\\\\Python_Project\\\\Python程式設計（第三版）\\\\Chapter11_Exer\\\\MHR_BLUR_10.jpg\")"
   ]
  },
  {
   "cell_type": "markdown",
   "metadata": {},
   "source": [
    "2. 撰寫一些Python敘述將圖片MHR.jpg做左右翻轉，下面的執行結果供您參考。"
   ]
  },
  {
   "cell_type": "code",
   "execution_count": 2,
   "metadata": {},
   "outputs": [
    {
     "name": "stderr",
     "output_type": "stream",
     "text": [
      "C:\\Users\\chen_\\AppData\\Local\\Temp\\ipykernel_10880\\1605655302.py:2: DeprecationWarning: FLIP_LEFT_RIGHT is deprecated and will be removed in Pillow 10 (2023-07-01). Use Transpose.FLIP_LEFT_RIGHT instead.\n",
      "  Out_Graph = Graph.transpose(Image.FLIP_LEFT_RIGHT) # 將圖片左右翻轉\n"
     ]
    }
   ],
   "source": [
    "Graph = Image.open(\"C:\\\\Users\\\\chen_\\\\Desktop\\\\MyProject\\\\Python_Project\\\\Python程式設計（第三版）\\\\Chapter11_Exer\\\\MHR.jpg\")\n",
    "Out_Graph = Graph.transpose(Image.FLIP_LEFT_RIGHT) # 將圖片左右翻轉\n",
    "Out_Graph.show()\n",
    "Out_Graph.save(\"C:\\\\Users\\\\chen_\\\\Desktop\\\\MyProject\\\\Python_Project\\\\Python程式設計（第三版）\\\\Chapter11_Exer\\\\MHR_FLIP.jpg\")"
   ]
  },
  {
   "cell_type": "markdown",
   "metadata": {},
   "source": [
    "3. 撰寫一些Python敘述將Google台灣的網址 https://www.google.com.tw/ 轉換成QR code圖片，然後以智慧型手機的QR code掃描器讀取該圖片，看是否會得到相同的資料，下面的執行結果供您參考"
   ]
  },
  {
   "cell_type": "code",
   "execution_count": 3,
   "metadata": {},
   "outputs": [],
   "source": [
    "import qrcode\n",
    "from PIL import Image\n",
    "QRcode = qrcode.make(\"https://www.google.com.tw/\")\n",
    "QRcode.show()\n",
    "QRcode.save(\"C:\\\\Users\\\\chen_\\\\Desktop\\\\MyProject\\\\Python_Project\\\\Python程式設計（第三版）\\\\Chapter11_Exer\\\\Google_QRcode.jpg\")"
   ]
  }
 ],
 "metadata": {
  "kernelspec": {
   "display_name": "Python 3.10.5 64-bit",
   "language": "python",
   "name": "python3"
  },
  "language_info": {
   "codemirror_mode": {
    "name": "ipython",
    "version": 3
   },
   "file_extension": ".py",
   "mimetype": "text/x-python",
   "name": "python",
   "nbconvert_exporter": "python",
   "pygments_lexer": "ipython3",
   "version": "3.10.5"
  },
  "orig_nbformat": 4,
  "vscode": {
   "interpreter": {
    "hash": "3943b0f0854002a7d9e39fa0702d9fd5582f29d65987560c23dc3a47d0dac4ee"
   }
  }
 },
 "nbformat": 4,
 "nbformat_minor": 2
}
