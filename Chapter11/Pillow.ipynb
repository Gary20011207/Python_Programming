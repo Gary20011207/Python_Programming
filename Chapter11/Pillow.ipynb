{
 "cells": [
  {
   "cell_type": "code",
   "execution_count": 1,
   "metadata": {},
   "outputs": [],
   "source": [
    "from PIL import Image\n",
    "im = Image.open(\"C:\\\\Users\\\\chen_\\\\Desktop\\\\MyProject\\\\Python_Project\\\\Python程式設計（第三版）\\\\Chapter11\\\\Anime.jpg\")\n",
    "im.show()"
   ]
  },
  {
   "cell_type": "code",
   "execution_count": 2,
   "metadata": {},
   "outputs": [
    {
     "name": "stdout",
     "output_type": "stream",
     "text": [
      "JPEG\n"
     ]
    }
   ],
   "source": [
    "print(im.format)"
   ]
  },
  {
   "cell_type": "code",
   "execution_count": 3,
   "metadata": {},
   "outputs": [
    {
     "name": "stdout",
     "output_type": "stream",
     "text": [
      "(592, 591)\n"
     ]
    }
   ],
   "source": [
    "print(im.size)"
   ]
  },
  {
   "cell_type": "code",
   "execution_count": 4,
   "metadata": {},
   "outputs": [],
   "source": [
    "out = im.convert(\"1\") # 轉換成黑白圖片\n",
    "out.show()"
   ]
  },
  {
   "cell_type": "code",
   "execution_count": 5,
   "metadata": {},
   "outputs": [],
   "source": [
    "out = im.convert(\"L\") # 轉換成灰階圖片\n",
    "out.show()"
   ]
  },
  {
   "cell_type": "code",
   "execution_count": 6,
   "metadata": {},
   "outputs": [],
   "source": [
    "out.save(\"C:\\\\Users\\\\chen_\\\\Desktop\\\\MyProject\\\\Python_Project\\\\Python程式設計（第三版）\\\\Chapter11\\\\Anime_Grayscale.jpg\")"
   ]
  },
  {
   "cell_type": "code",
   "execution_count": 7,
   "metadata": {},
   "outputs": [],
   "source": [
    "out.close()"
   ]
  },
  {
   "cell_type": "code",
   "execution_count": 8,
   "metadata": {},
   "outputs": [],
   "source": [
    "out = im.rotate(45) # 將圖片往逆時針方向旋轉45度\n",
    "out.show()"
   ]
  },
  {
   "cell_type": "code",
   "execution_count": 9,
   "metadata": {},
   "outputs": [
    {
     "name": "stderr",
     "output_type": "stream",
     "text": [
      "C:\\Users\\chen_\\AppData\\Local\\Temp\\ipykernel_19240\\80388639.py:1: DeprecationWarning: FLIP_LEFT_RIGHT is deprecated and will be removed in Pillow 10 (2023-07-01). Use Transpose.FLIP_LEFT_RIGHT instead.\n",
      "  out = im.transpose(Image.FLIP_LEFT_RIGHT) # 將圖片左右翻轉\n"
     ]
    }
   ],
   "source": [
    "out = im.transpose(Image.FLIP_LEFT_RIGHT) # 將圖片左右翻轉\n",
    "out.show()"
   ]
  },
  {
   "cell_type": "code",
   "execution_count": 10,
   "metadata": {},
   "outputs": [],
   "source": [
    "from PIL import ImageFilter\n",
    "out = im.filter(ImageFilter.BLUR) # 將圖片加上模糊濾鏡\n",
    "out.show()"
   ]
  },
  {
   "cell_type": "code",
   "execution_count": 11,
   "metadata": {},
   "outputs": [],
   "source": [
    "out = im.filter(ImageFilter.CONTOUR) # 將圖片加上輪廓濾鏡\n",
    "out.show()"
   ]
  },
  {
   "cell_type": "code",
   "execution_count": 12,
   "metadata": {},
   "outputs": [],
   "source": [
    "from PIL import Image, ImageDraw, ImageFont\n",
    "im = Image.open(\"C:\\\\Users\\\\chen_\\\\Desktop\\\\MyProject\\\\Python_Project\\\\Python程式設計（第三版）\\\\Chapter11\\\\Anime.jpg\")\n",
    "ttfont = ImageFont.truetype(\"C:\\\\Windows\\\\Fonts\\\\Arial\\\\arial.ttf\", 100) # 字型檔是Windows內建的Arial，字型大小為100點\n",
    "draw = ImageDraw.Draw(im)\n",
    "draw.text((25, 10), \"Hi!\", font = ttfont, fill = (255, 0, 0, 255))\n",
    "im.show()"
   ]
  },
  {
   "cell_type": "code",
   "execution_count": 13,
   "metadata": {},
   "outputs": [],
   "source": [
    "im = Image.new(\"RGB\", (400, 300)) # 建立一個寬度400像素、高度300像素、採取RGB色彩模式的空白圖片\n",
    "draw = ImageDraw.Draw(im)\n",
    "draw.ellipse([(0, 0), (100, 100)], fill = (0, 255, 0, 255)) # 使用繪圖物件的ellipse()方法繪製橢圓\n",
    "im.show()"
   ]
  },
  {
   "cell_type": "code",
   "execution_count": 14,
   "metadata": {},
   "outputs": [],
   "source": [
    "im = Image.open(\"C:\\\\Users\\\\chen_\\\\Desktop\\\\MyProject\\\\Python_Project\\\\Python程式設計（第三版）\\\\Chapter11\\\\Anime.jpg\")\n",
    "out = im.resize((250, 250)) # 將圖片的大小設定為寬度250像素、高度250像素\n",
    "out.show()"
   ]
  }
 ],
 "metadata": {
  "kernelspec": {
   "display_name": "Python 3.10.5 64-bit",
   "language": "python",
   "name": "python3"
  },
  "language_info": {
   "codemirror_mode": {
    "name": "ipython",
    "version": 3
   },
   "file_extension": ".py",
   "mimetype": "text/x-python",
   "name": "python",
   "nbconvert_exporter": "python",
   "pygments_lexer": "ipython3",
   "version": "3.10.5"
  },
  "orig_nbformat": 4,
  "vscode": {
   "interpreter": {
    "hash": "3943b0f0854002a7d9e39fa0702d9fd5582f29d65987560c23dc3a47d0dac4ee"
   }
  }
 },
 "nbformat": 4,
 "nbformat_minor": 2
}
